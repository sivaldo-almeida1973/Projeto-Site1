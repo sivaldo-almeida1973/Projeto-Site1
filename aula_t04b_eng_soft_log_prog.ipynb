{
  "nbformat": 4,
  "nbformat_minor": 0,
  "metadata": {
    "colab": {
      "provenance": [],
      "authorship_tag": "ABX9TyPVFg/CtvFpUFJyj9mOsrKT",
      "include_colab_link": true
    },
    "kernelspec": {
      "name": "python3",
      "display_name": "Python 3"
    },
    "language_info": {
      "name": "python"
    }
  },
  "cells": [
    {
      "cell_type": "markdown",
      "metadata": {
        "id": "view-in-github",
        "colab_type": "text"
      },
      "source": [
        "<a href=\"https://colab.research.google.com/github/sivaldo-almeida1973/Projeto-Site1/blob/main/aula_t04b_eng_soft_log_prog.ipynb\" target=\"_parent\"><img src=\"https://colab.research.google.com/assets/colab-badge.svg\" alt=\"Open In Colab\"/></a>"
      ]
    },
    {
      "cell_type": "code",
      "execution_count": null,
      "metadata": {
        "colab": {
          "base_uri": "https://localhost:8080/"
        },
        "id": "TM4a0zwKTvTs",
        "outputId": "696789be-9e2d-40c4-fbb4-3eb3a3f5af62"
      },
      "outputs": [
        {
          "output_type": "stream",
          "name": "stdout",
          "text": [
            "Digite o  1º numero :10\n",
            "Digite o  2º numero :10\n",
            "Digite o  3º numero :10\n",
            "Digite o  4º numero :10\n",
            "Digite o  5º numero :110\n",
            "Somatorio: 150\n"
          ]
        }
      ],
      "source": [
        "soma = 0\n",
        "cont = 1\n",
        "while (cont <= 5):\n",
        "  x = int(input('Digite o  {}º numero :'. format(cont)))\n",
        "  soma += x\n",
        "  cont += 1\n",
        "print(('Somatorio: {}'.format(soma)))\n"
      ]
    },
    {
      "cell_type": "markdown",
      "source": [
        "#Validando daods de entrada:\n"
      ],
      "metadata": {
        "id": "Vzbz-sXJU4xG"
      }
    },
    {
      "cell_type": "code",
      "source": [
        "x = int(input('Digite um valor maior do que zero:'))\n",
        "while (x <= 0):\n",
        "  x = int(input('Digite um valor maior que zero:'))\n",
        "print('Voce digitou {} .Encerrnado o programa..'. format(x))"
      ],
      "metadata": {
        "colab": {
          "base_uri": "https://localhost:8080/"
        },
        "id": "D8oh3oZWUb9U",
        "outputId": "1e9f0d5c-8130-49f5-b37b-5ed89d960945"
      },
      "execution_count": null,
      "outputs": [
        {
          "output_type": "stream",
          "name": "stdout",
          "text": [
            "Digite um valor maior do que zero:0\n",
            "Digite um valor maior que zero:10\n",
            "Voce digitou 10 .Encerrnado o programa..\n"
          ]
        }
      ]
    },
    {
      "cell_type": "markdown",
      "source": [
        "#Break"
      ],
      "metadata": {
        "id": "hbWVnSmQWN1v"
      }
    },
    {
      "cell_type": "code",
      "source": [
        "print('Digite uma mensagem que irei repetir para voce!')\n",
        "print('Para encerrar escreva  \"sair\" ')\n",
        "while True:\n",
        "  texto = input('')\n",
        "  print(texto)\n",
        "  if texto == 'sair':\n",
        "    break\n",
        "print('Encerrando o programa...')"
      ],
      "metadata": {
        "id": "wG8FBsMeV3Gp"
      },
      "execution_count": null,
      "outputs": []
    },
    {
      "cell_type": "code",
      "source": [
        "valor =input('digite um valor a ser soma com 100:')\n",
        "valor = int(valor)\n",
        "print(100 + valor)"
      ],
      "metadata": {
        "colab": {
          "base_uri": "https://localhost:8080/"
        },
        "id": "ozD-yj4bXBpc",
        "outputId": "89343c7c-327b-4cd1-c575-8cee118a8b0c"
      },
      "execution_count": null,
      "outputs": [
        {
          "output_type": "stream",
          "name": "stdout",
          "text": [
            "digite um valor a ser soma com 100:10\n",
            "110\n"
          ]
        }
      ]
    },
    {
      "cell_type": "code",
      "source": [],
      "metadata": {
        "id": "nk4i28ageD32"
      },
      "execution_count": null,
      "outputs": []
    }
  ]
}